{
 "cells": [
  {
   "cell_type": "markdown",
   "metadata": {},
   "source": [
    "# Librerías"
   ]
  },
  {
   "cell_type": "code",
   "execution_count": 31,
   "metadata": {},
   "outputs": [],
   "source": [
    "from selenium import webdriver\n",
    "import requests\n",
    "import time\n",
    "import pandas as pd\n",
    "import numpy as np"
   ]
  },
  {
   "cell_type": "markdown",
   "metadata": {},
   "source": [
    "# Funciones"
   ]
  },
  {
   "cell_type": "code",
   "execution_count": 58,
   "metadata": {},
   "outputs": [],
   "source": [
    "def getDriver(expediente):\n",
    "\n",
    "    pageURL ='https://appscvsmovil.supercias.gob.ec/portaldeinformacion/consulta_cia_menu.zul?expediente='+expediente+'&tipo=1'\n",
    "    options = webdriver.ChromeOptions()\n",
    "    options.add_argument('start-maximized')    \n",
    "    driver = webdriver.Chrome(options=options,executable_path=r\"chromedriver.exe\")    \n",
    "    empresa=''\n",
    "    \n",
    "    try:\n",
    "        driver.get(pageURL)\n",
    "        site_key = \"6LfzwakUAAAAAPmFRhQ3aPRktzKzH-L81F-_Z0bC\"\n",
    "\n",
    "        with open(r\"api_key.txt\", \"r\") as f:\n",
    "          api_key = f.read()\n",
    "\n",
    "        form = {\"method\": \"userrecaptcha\",\n",
    "                \"googlekey\": site_key,\n",
    "                \"key\": api_key, \n",
    "                \"pageurl\": pageURL, \n",
    "                \"json\": 1}\n",
    "\n",
    "        response = requests.post('http://2captcha.com/in.php', data=form)\n",
    "        request_id = response.json()['request']\n",
    "\n",
    "        url = f\"http://2captcha.com/res.php?key={api_key}&action=get&id={request_id}&json=1\"\n",
    "\n",
    "        status = 0\n",
    "        while not status:\n",
    "            res = requests.get(url)\n",
    "    #        print(res)\n",
    "            if res.json()['status']==0:\n",
    "                time.sleep(3)\n",
    "            else:\n",
    "                requ = res.json()['request']\n",
    "                js = f'document.getElementById(\"g-recaptcha-response\").innerHTML=\"{requ}\";'\n",
    "                driver.execute_script(js)\n",
    "                fjs= f'verifyCallback(\"{requ}\");'\n",
    "                driver.execute_script(fjs)\n",
    "                status = 1\n",
    "        time.sleep(3)\n",
    "\n",
    "        driver.find_element_by_xpath('//td[@class=\"z-button-cm\"]').click()    \n",
    "        #driver.save_screenshot('screenshot.png')\n",
    "        empresa=driver.find_element_by_xpath('//span[@class=\"z-label\"]').text\n",
    "        arbolAccionistas=driver.find_element_by_xpath('(//a[@class=\"m_iconos\"])[7]')\n",
    "        driver.execute_script(\"arguments[0].click()\",arbolAccionistas)\n",
    "        time.sleep(2)\n",
    "        estado=0\n",
    "    except:\n",
    "        estado=1\n",
    "    return driver,empresa,estado\n",
    "\n",
    "\n",
    "def getAccionistas(driver,expediente,empresa):\n",
    "    numeroColumnas=7\n",
    "    datos=driver.find_elements_by_xpath('//div[contains(@class,\"z-treecell-cnt\")]')\n",
    "    datosAccionista=[dato.text for dato in datos]\n",
    "    Accionista = pd.DataFrame(np.array(datosAccionista).reshape(int(len(datosAccionista)/numeroColumnas),numeroColumnas),\n",
    "                    columns = [\"numero\",\"identificacion\",\"accionista\",\"nacionalidad\",\"tipo_inversion\",\"capital\",\"restriccion\"])\n",
    "    #formato de números a las columnas\n",
    "    Accionista[Accionista.columns[5]] = Accionista[Accionista.columns[5]].apply(lambda x: x.replace(',','')).astype(float)\n",
    "    Accionista['expediente']=int(expediente)\n",
    "    Accionista['empresa']=empresa\n",
    "    time.sleep(1)    \n",
    "    driver.close()\n",
    "    return Accionista  "
   ]
  },
  {
   "cell_type": "markdown",
   "metadata": {},
   "source": [
    "# Programa Principal"
   ]
  },
  {
   "cell_type": "code",
   "execution_count": 60,
   "metadata": {},
   "outputs": [],
   "source": [
    "Accionistas=[]\n",
    "Expedientes=['156811','151630','4164','1195']\n",
    "\n",
    "for expediente in Expedientes:\n",
    "    driver,empresa,estado=getDriver(expediente)\n",
    "    if estado==0:\n",
    "        Accionista=getAccionistas(driver,expediente,empresa)\n",
    "        Accionistas.append(Accionista)\n",
    "\n",
    "AccionistasEmpresa=pd.concat(Accionistas,ignore_index=True)\n",
    "AccionistasEmpresa.to_csv(\"Accionista_Compañía.csv\")"
   ]
  }
 ],
 "metadata": {
  "kernelspec": {
   "display_name": "Python 3",
   "language": "python",
   "name": "python3"
  },
  "language_info": {
   "codemirror_mode": {
    "name": "ipython",
    "version": 3
   },
   "file_extension": ".py",
   "mimetype": "text/x-python",
   "name": "python",
   "nbconvert_exporter": "python",
   "pygments_lexer": "ipython3",
   "version": "3.8.5"
  }
 },
 "nbformat": 4,
 "nbformat_minor": 5
}
